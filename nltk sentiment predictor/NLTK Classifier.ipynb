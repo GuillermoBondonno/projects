{
 "cells": [
  {
   "cell_type": "code",
   "execution_count": 27,
   "metadata": {},
   "outputs": [],
   "source": [
    "import nltk\n",
    "from nltk.tokenize import word_tokenize\n",
    "from collections import Counter\n",
    "from math import e\n",
    "import pickle\n",
    "from sklearn import svm\n",
    "import numpy as np\n",
    "import timeit\n",
    "import random\n",
    "import pandas as pd\n",
    "from sklearn.naive_bayes import GaussianNB\n",
    "import matplotlib.pyplot as plt"
   ]
  },
  {
   "cell_type": "code",
   "execution_count": 3,
   "metadata": {},
   "outputs": [],
   "source": [
    "neg = open(\"./neg.txt\", \"r\")\n",
    "lines = [line.rstrip('\\n') for line in neg]\n",
    "neg_words = [[word for word in word_tokenize(line)] for line in lines]\n",
    "\n",
    "pos = open(\"./pos.txt\", \"r\")\n",
    "lines = [line.rstrip('\\n') for line in pos]\n",
    "pos_words = [[word for word in word_tokenize(line)] for line in lines] \n",
    "#pos_words[n] == [\"this\", \"for\", \"example\"]\n",
    "\n",
    "temp = neg_words\n",
    "neg_words = []\n",
    "for line in temp:\n",
    "    for word in line:\n",
    "        neg_words.append(word)\n",
    "\n",
    "temp = pos_words\n",
    "pos_words = []\n",
    "for line in temp:\n",
    "    for word in line:\n",
    "        pos_words.append(word)\n",
    "        \n",
    "all_words = pos_words+neg_words\n",
    "most_common_words = nltk.FreqDist(all_words)\n",
    "\n",
    "most_common_words = [word for word in most_common_words if 900>most_common_words[word] > 2]"
   ]
  },
  {
   "cell_type": "code",
   "execution_count": 4,
   "metadata": {},
   "outputs": [],
   "source": [
    "def create_feature(rev):\n",
    "    feature = []\n",
    "    for word in most_common_words:\n",
    "        feature.append(word in word_tokenize(rev))\n",
    "    return feature\n",
    "\n",
    "#un feature consiste en una liste de True y False, para cada una de las palabras mas comunes\n",
    "#segun esten en la rev"
   ]
  },
  {
   "cell_type": "code",
   "execution_count": 24,
   "metadata": {},
   "outputs": [],
   "source": [
    "\"\"\"\n",
    "neg = open(r\"./neg.txt\", \"r\")\n",
    "pos = open(r\"./pos.txt\", \"r\")\n",
    "\n",
    "pos_lines = [line.rstrip('\\n') for line in pos]\n",
    "neg_lines = [line.rstrip('\\n') for line in neg]\n",
    "\n",
    "featureset = []\n",
    "count = 0\n",
    "for rev in pos_lines[:1000]:\n",
    "    featureset.append((create_feature(rev), \"pos\"))\n",
    "    count += 1\n",
    "    if count%20==0:\n",
    "        print(count, \" out of 1000\")\n",
    "count = 0\n",
    "for rev in neg_lines[:1000]:\n",
    "    featureset.append((create_feature(rev), \"neg\"))\n",
    "    count += 1\n",
    "    if count%20==0:\n",
    "        print(count, \" out of 1000\")\n",
    "\n",
    "\n",
    "pickle_in = open(\"featureset.pickle\",\"rb\")\n",
    "featureset = pickle.load(pickle_in)\n",
    "\n",
    "#PARA ENTRENAR AL CLASIFICADOR DE NUEVO CON OTRA DATA\n",
    "\n",
    "GUARDAMOS LOS FEATURES\n",
    "pickle_out = open(\"featureset.pickle\",\"wb\")\n",
    "pickle.dump(featureset, pickle_out)\n",
    "pickle_out.close()\n",
    "\n",
    "\n",
    "random.shuffle(featureset)\n",
    "\n",
    "test_set = featureset[1900:]\n",
    "train_set = featureset[:1900]\n",
    "\n",
    "X = [x[0] for x in train_set]\n",
    "y = [x[1] for x in train_set]\n",
    "\n",
    "X = np.array(X)\n",
    "y = np.array(y)\n",
    "\n",
    "LinearSVCclf = svm.LinearSVC()\n",
    "GaussianNBclf = GaussianNB()\n",
    "\n",
    "GaussianNBclf.fit(X, y)\n",
    "LinearSVCclf.fit(X, y)\n",
    "\n",
    "#GUARDAMOS EL CLF YA ENTRENADO\n",
    "pickle_out = open(\"LinSVCclf.pickle\", \"wb\")\n",
    "pickle.dump(LinearSVCclf, pickle_out)\n",
    "pickle_out.close()\n",
    "\n",
    "pickle_out = open(\"GaussianNBclf.pickle\", \"wb\")\n",
    "pickle.dump(GaussianNBclf, pickle_out)\n",
    "pickle_out.close()\n",
    "\n",
    "\"\"\"\n",
    "#tomamos los clf guardado\n",
    "pickle_in = open(\"LinSVCclf.pickle\",\"rb\")\n",
    "LinearSVCclf = pickle.load(pickle_in)\n",
    "\n",
    "pickle_in = open(\"GaussianNBclf.pickle\",\"rb\")\n",
    "GaussianNBclf = pickle.load(pickle_in)\n",
    "\n",
    "\n",
    "def sentiment(sentence):\n",
    "    X = np.array(create_feature(sentence))\n",
    "    X = X.reshape(1, -1)\n",
    "    return LinearSVCclf.predict(X)[0], GaussianNBclf.predict(X)[0]"
   ]
  },
  {
   "cell_type": "code",
   "execution_count": 25,
   "metadata": {},
   "outputs": [],
   "source": [
    "IMDB = pd.read_csv(r\".\\IMDB Dataset.csv\") #El archivo IMDB.csv esta en https://www.kaggle.com/lakshmi25npathi/imdb-dataset-of-50k-movie-reviews    "
   ]
  },
  {
   "cell_type": "code",
   "execution_count": 39,
   "metadata": {},
   "outputs": [],
   "source": [
    "true = []\n",
    "gnb = []\n",
    "lsvc = []\n",
    "\n",
    "#guardamos el resultado verdadero de la review, la prediccion que da gnb, y la del svc\n",
    "\n",
    "for i in range(50):\n",
    "    index = random.choice(IMDB.index)\n",
    "    true.append(IMDB[\"sentiment\"][index])\n",
    "    svc, gaussiannb = sentiment(IMDB[\"review\"][index])\n",
    "    gnb.append(gaussiannb)\n",
    "    lsvc.append(svc)\n",
    "    print(len(gnb), len())"
   ]
  },
  {
   "cell_type": "code",
   "execution_count": 58,
   "metadata": {
    "scrolled": true
   },
   "outputs": [
    {
     "data": {
      "text/plain": [
       "<BarContainer object of 3 artists>"
      ]
     },
     "execution_count": 58,
     "metadata": {},
     "output_type": "execute_result"
    },
    {
     "data": {
      "image/png": "[encoded data removed]",
      "text/plain": [
       "<Figure size 432x288 with 1 Axes>"
      ]
     },
     "metadata": {
      "needs_background": "light"
     },
     "output_type": "display_data"
    }
   ],
   "source": [
    "#calculamos la performance de cada uno, y de los dos combinados\n",
    "temp = true\n",
    "true = []\n",
    "for i in temp:\n",
    "    if i == \"negative\":\n",
    "        true.append(\"neg\")\n",
    "    elif i == \"positive\":\n",
    "        true.append(\"pos\")\n",
    "    \n",
    "gnb_score = 0\n",
    "svc_score = 0\n",
    "equal_results = 0\n",
    "both_score = 0\n",
    "\n",
    "for i in range(len(true)):\n",
    "    if true[i] == gnb[i]:\n",
    "        gnb_score += 1\n",
    "    \n",
    "    if true[i] == lsvc[i]:\n",
    "        svc_score += 1\n",
    "    \n",
    "    if true[i] == gnb[i] == lsvc[i]:\n",
    "        both_score += 1\n",
    "    \n",
    "    if lsvc[i] == gnb[i]:\n",
    "        equal_results += 1\n",
    "        \n",
    "\n",
    "\n",
    "labels = [\"Gaussian NB\", \"SVC\", \"Combinados\"]\n",
    "resultados = [gnb_score/300, svc_score/300, both_score/equal_results]\n",
    "plt.bar(labels, resultados)\n",
    "    \n",
    "    "
   ]
  },
  {
   "cell_type": "code",
   "execution_count": null,
   "metadata": {},
   "outputs": [],
   "source": []
  }
 ],
 "metadata": {
  "kernelspec": {
   "display_name": "Python 3",
   "language": "python",
   "name": "python3"
  },
  "language_info": {
   "codemirror_mode": {
    "name": "ipython",
    "version": 3
   },
   "file_extension": ".py",
   "mimetype": "text/x-python",
   "name": "python",
   "nbconvert_exporter": "python",
   "pygments_lexer": "ipython3",
   "version": "3.7.6"
  }
 },
 "nbformat": 4,
 "nbformat_minor": 4
}
