{
 "cells": [
  {
   "cell_type": "code",
   "execution_count": 1,
   "metadata": {},
   "outputs": [],
   "source": [
    "import gym\n",
    "import numpy as np\n",
    "import matplotlib.pyplot as plt"
   ]
  },
  {
   "cell_type": "code",
   "execution_count": 2,
   "metadata": {},
   "outputs": [],
   "source": [
    "env = gym.make(\"MountainCar-v0\")"
   ]
  },
  {
   "cell_type": "code",
   "execution_count": 4,
   "metadata": {},
   "outputs": [],
   "source": [
    "def main_loop(learning_rate=0.1, epsilon=0.5, episodes=5000, show_every=1000, discount=0.95):\n",
    "    LEARNING_RATE = learning_rate\n",
    "\n",
    "    DISCOUNT = discount\n",
    "    EPISODES = episodes\n",
    "\n",
    "\n",
    "    DISCRETE_OS_SIZE = [20, 20]\n",
    "    discrete_os_win_size = (env.observation_space.high - env.observation_space.low)/DISCRETE_OS_SIZE\n",
    "    SHOW_EVERY = show_every\n",
    "\n",
    "    epsilon = epsilon #una medida de que tanto va  a explorar el agente\n",
    "    START_EPSILON_DECAYING = 1\n",
    "    END_EPSILON_DECAYING = EPISODES // 2\n",
    "    epsilon_decay_value = epsilon/(END_EPSILON_DECAYING - START_EPSILON_DECAYING)\n",
    "\n",
    "    q_table = np.random.uniform(low=-2, high=0, size=(DISCRETE_OS_SIZE+[env.action_space.n])) #se inicializa con valores aleatorios\n",
    "\n",
    "    ep_rewards = list()\n",
    "    aggr_ep_rewards = {\"ep\": [],\n",
    "                     \"avg\" : [],\n",
    "                     \"min\": [],\n",
    "                     \"max\": []}\n",
    "\n",
    "    def get_discrete_state(state):\n",
    "        discrete_state = (state - env.observation_space.low) / discrete_os_win_size\n",
    "        return tuple(discrete_state.astype(np.int))\n",
    "\n",
    "    for episode in range(EPISODES):\n",
    "        episode_reward = 0\n",
    "        if episode%SHOW_EVERY == 0:\n",
    "            print(episode)\n",
    "            render = False\n",
    "        else:\n",
    "            render = False\n",
    "\n",
    "        discrete_state = get_discrete_state(env.reset())\n",
    "        done = False\n",
    "        while not done:\n",
    "\n",
    "            if np.random.random() > epsilon:\n",
    "                action = np.argmax(q_table[discrete_state])\n",
    "            else:\n",
    "                action = np.random.randint(0, env.action_space.n)\n",
    "\n",
    "            new_state, reward, done, _ = env.step(action)\n",
    "            episode_reward += reward\n",
    "            new_discrete_state = get_discrete_state(new_state)\n",
    "            if render:\n",
    "                env.render()\n",
    "\n",
    "            if not done:\n",
    "                max_future_q = np.max(q_table[new_discrete_state]) #busca la accion con mas valor para el nuevo estado\n",
    "                current_q = q_table[discrete_state + (action, )] #busca la accion con mas valor para el estado anterior\n",
    "\n",
    "                new_q = (1-LEARNING_RATE)*current_q + LEARNING_RATE* (reward+DISCOUNT*max_future_q) #calcula el nuevo valor\n",
    "                #en la tabla, no lo reemplaza, sino que pondera el current_q\n",
    "                q_table[discrete_state+(action, )] = new_q\n",
    "\n",
    "            elif new_state[0] >= env.goal_position:\n",
    "                #print(f\"we made it on {episode}\")\n",
    "                q_table[discrete_state + (action, )] = 0\n",
    "\n",
    "            discrete_state = new_discrete_state\n",
    "\n",
    "        if END_EPSILON_DECAYING >= episode >= START_EPSILON_DECAYING:\n",
    "            epsilon -= epsilon_decay_value\n",
    "\n",
    "        ep_rewards.append(episode_reward)\n",
    "\n",
    "        if not episode % SHOW_EVERY:\n",
    "            average_reward = sum(ep_rewards[-SHOW_EVERY:])/len(ep_rewards[-SHOW_EVERY:])\n",
    "            aggr_ep_rewards[\"ep\"].append(episode)\n",
    "            aggr_ep_rewards[\"avg\"].append(average_reward)\n",
    "            aggr_ep_rewards[\"min\"].append(min(ep_rewards[-SHOW_EVERY:]))\n",
    "            aggr_ep_rewards[\"max\"].append(max(ep_rewards[-SHOW_EVERY:]))\n",
    "\n",
    "            print(f\"Episode: {episode} avg: {average_reward} min: {min(ep_rewards[-SHOW_EVERY:])} max: {max(ep_rewards[-SHOW_EVERY:])}\")\n",
    "\n",
    "\n",
    "\n",
    "    env.close()\n",
    "\n",
    "    plt.plot(aggr_ep_rewards[\"ep\"], aggr_ep_rewards[\"avg\"], label=\"Average\", color=\"blue\")\n",
    "    plt.plot(aggr_ep_rewards[\"ep\"], aggr_ep_rewards[\"min\"], label=\"Minimum\", color=\"red\")\n",
    "    plt.plot(aggr_ep_rewards[\"ep\"], aggr_ep_rewards[\"max\"], label=\"Maximum\", color=\"green\")\n",
    "    plt.legend(loc=4)\n",
    "    plt.show()\n",
    "    #SEGUIR ACA: https://youtu.be/Gq1Azv_B4-4?list=PLQVvvaa0QuDezJFIOU5wDdfy4e9vdnx-7&t=779"
   ]
  },
  {
   "cell_type": "code",
   "execution_count": 5,
   "metadata": {},
   "outputs": [
    {
     "name": "stdout",
     "output_type": "stream",
     "text": [
      "0\n",
      "Episode: 0 avg: -200.0 min: -200.0 max: -200.0\n",
      "1000\n",
      "Episode: 1000 avg: -199.889 min: -200.0 max: -168.0\n",
      "2000\n",
      "Episode: 2000 avg: -194.757 min: -200.0 max: -149.0\n",
      "3000\n",
      "Episode: 3000 avg: -176.847 min: -200.0 max: -124.0\n",
      "4000\n",
      "Episode: 4000 avg: -176.333 min: -200.0 max: -122.0\n"
     ]
    },
    {
     "data": {
      "image/png": "[encoded data removed]",
      "text/plain": [
       "<Figure size 432x288 with 1 Axes>"
      ]
     },
     "metadata": {},
     "output_type": "display_data"
    }
   ],
   "source": [
    "main_loop()"
   ]
  },
  {
   "cell_type": "code",
   "execution_count": 6,
   "metadata": {},
   "outputs": [
    {
     "name": "stdout",
     "output_type": "stream",
     "text": [
      "0\n",
      "Episode: 0 avg: -200.0 min: -200.0 max: -200.0\n",
      "2000\n",
      "Episode: 2000 avg: -199.948 min: -200.0 max: -167.0\n",
      "4000\n",
      "Episode: 4000 avg: -192.6295 min: -200.0 max: -123.0\n",
      "6000\n",
      "Episode: 6000 avg: -179.3165 min: -200.0 max: -119.0\n",
      "8000\n",
      "Episode: 8000 avg: -157.562 min: -200.0 max: -115.0\n"
     ]
    },
    {
     "data": {
      "image/png": "[encoded data removed]",
      "text/plain": [
       "<Figure size 432x288 with 1 Axes>"
      ]
     },
     "metadata": {},
     "output_type": "display_data"
    }
   ],
   "source": [
    "main_loop(episodes=10000, show_every=2000, epsilon=0.7)"
   ]
  },
  {
   "cell_type": "markdown",
   "metadata": {},
   "source": [
    "Se ve como el average_reward va subiendo a medida que el agente alcanza el objetivo mas seguido\n",
    "Aumentando el epsilon y iterando por mas episodios, llega a un avg reward mas alto"
   ]
  }
 ],
 "metadata": {
  "kernelspec": {
   "display_name": "Python 3",
   "language": "python",
   "name": "python3"
  },
  "language_info": {
   "codemirror_mode": {
    "name": "ipython",
    "version": 3
   },
   "file_extension": ".py",
   "mimetype": "text/x-python",
   "name": "python",
   "nbconvert_exporter": "python",
   "pygments_lexer": "ipython3",
   "version": "3.6.5"
  }
 },
 "nbformat": 4,
 "nbformat_minor": 2
}
